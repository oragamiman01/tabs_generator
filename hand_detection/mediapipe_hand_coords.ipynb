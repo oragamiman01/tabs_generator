{
 "cells": [
  {
   "cell_type": "code",
   "execution_count": 2,
   "metadata": {},
   "outputs": [],
   "source": [
    "# code source: https://arkalsekar.medium.com/how-to-get-all-the-co-ordinates-of-hand-using-mediapipe-hand-solutions-ac7e2742f702\n",
    "import cv2\n",
    "\n",
    "import glob\n",
    "import matplotlib.pyplot as plt\n",
    "from io import BytesIO\n",
    "from PIL import Image as PILImage\n",
    "import cv2 as cv\n",
    "from IPython.display import display, Image, clear_output\n",
    "\n",
    "from io import StringIO\n",
    "\n",
    "import mediapipe as mp\n",
    "import ipywidgets as widgets"
   ]
  },
  {
   "cell_type": "markdown",
   "metadata": {},
   "source": [
    "Import Image"
   ]
  },
  {
   "cell_type": "code",
   "execution_count": 3,
   "metadata": {},
   "outputs": [
    {
     "data": {
      "application/vnd.jupyter.widget-view+json": {
       "model_id": "7e743ce770b3476aa1079d2c15d03b5b",
       "version_major": 2,
       "version_minor": 0
      },
      "text/plain": [
       "Output(layout=Layout(border_bottom='1px solid black', border_left='1px solid black', border_right='1px solid b…"
      ]
     },
     "metadata": {},
     "output_type": "display_data"
    }
   ],
   "source": [
    "image_src = '../data/fretboard_dataset/fretboard_frames_test/28_0.png'\n",
    "image = cv2.imread(image_src)\n",
    "h,w,c = image.shape\n",
    "out = widgets.Output(layout={'border': '1px solid black', 'width': f'{w/2}px', 'height': f'{h/2}px'})\n",
    "index = 0\n",
    "mp_drawing = mp.solutions.drawing_utils\n",
    "mp_hands = mp.solutions.hands\n",
    "\n",
    "with out:\n",
    "    with mp_hands.Hands(\n",
    "    min_detection_confidence=0.5,\n",
    "    min_tracking_confidence=0.5) as hands:\n",
    "        image = cv2.cvtColor(image, cv2.COLOR_BGR2RGB)\n",
    "        # To improve performance, optionally mark the image as not writeable to\n",
    "        # pass by reference.\n",
    "        image.flags.writeable = False\n",
    "        results = hands.process(image)\n",
    "        image_height, image_width, _ = image.shape\n",
    "        # Draw the hand annotations on the image.\n",
    "        image.flags.writeable = True\n",
    "        image = cv2.cvtColor(image, cv2.COLOR_RGB2BGR)\n",
    "        if results.multi_hand_landmarks:\n",
    "            file_path_coords = f\"image_{index}.txt\"\n",
    "            file = open(file_path_coords, 'a')\n",
    "            for hand_landmarks in results.multi_hand_landmarks:\n",
    "                # Here is How to Get All the Coordinates\n",
    "                for ids, landmrk in enumerate(hand_landmarks.landmark):\n",
    "                    # print(ids, landmrk)\n",
    "                    # cx, cy = landmrk.x * image_width, landmrk.y*image_height\n",
    "                    # print(cx, cy)'\n",
    "                    coord = [ids, landmrk.x, landmrk.y]\n",
    "                    file.write(str(coord))\n",
    "                mp_drawing.draw_landmarks(\n",
    "                    image, hand_landmarks, mp_hands.HAND_CONNECTIONS)\n",
    "            file.close()\n",
    "            \n",
    "        file_path_img = f\"image_{index}.png\"\n",
    "        cv2.imwrite(file_path_img, image)\n",
    "        \n",
    "        index += 1\n",
    "        display(Image(data=cv2.imencode('.png', image)[1].tobytes()))\n",
    "        \n",
    "display(out)"
   ]
  },
  {
   "cell_type": "markdown",
   "metadata": {},
   "source": [
    "Image Capture"
   ]
  },
  {
   "cell_type": "code",
   "execution_count": 9,
   "metadata": {},
   "outputs": [
    {
     "data": {
      "application/vnd.jupyter.widget-view+json": {
       "model_id": "31d909d0679a456fa09a01939a22e897",
       "version_major": 2,
       "version_minor": 0
      },
      "text/plain": [
       "Button(description='Capture Frame', style=ButtonStyle())"
      ]
     },
     "metadata": {},
     "output_type": "display_data"
    },
    {
     "data": {
      "application/vnd.jupyter.widget-view+json": {
       "model_id": "bebe2f3593114ae1bc227cea812f8276",
       "version_major": 2,
       "version_minor": 0
      },
      "text/plain": [
       "Output(layout=Layout(border_bottom='1px solid black', border_left='1px solid black', border_right='1px solid b…"
      ]
     },
     "metadata": {},
     "output_type": "display_data"
    }
   ],
   "source": [
    "camera_source = 0\n",
    "\n",
    "# Open the camera\n",
    "cap = cv2.VideoCapture(camera_source)\n",
    "if not cap.isOpened():\n",
    "    print(\"Error: Couldn't open the camera.\")\n",
    "\n",
    "out = widgets.Output(layout={'border': '1px solid black', 'width': '400px', 'height': '300px'})\n",
    "index = 0\n",
    "def on_button_clicked(_):\n",
    "    global index\n",
    "    mp_drawing = mp.solutions.drawing_utils\n",
    "    mp_hands = mp.solutions.hands\n",
    "\n",
    "    with out:\n",
    "        with mp_hands.Hands(\n",
    "        min_detection_confidence=0.5,\n",
    "        min_tracking_confidence=0.5) as hands:\n",
    "            clear_output(wait=True)\n",
    "            ret, image = cap.read()\n",
    "            \n",
    "            image = cv2.cvtColor(cv2.flip(image, 1), cv2.COLOR_BGR2RGB)\n",
    "            # To improve performance, optionally mark the image as not writeable to\n",
    "            # pass by reference.\n",
    "            image.flags.writeable = False\n",
    "            results = hands.process(image)\n",
    "            image_height, image_width, _ = image.shape\n",
    "            # Draw the hand annotations on the image.\n",
    "            image.flags.writeable = True\n",
    "            image = cv2.cvtColor(image, cv2.COLOR_RGB2BGR)\n",
    "            if results.multi_hand_landmarks:\n",
    "                file_path_coords = f\"image_{index}.txt\"\n",
    "                file = open(file_path_coords, 'a')\n",
    "                for hand_landmarks in results.multi_hand_landmarks:\n",
    "                    # Here is How to Get All the Coordinates\n",
    "                    for ids, landmrk in enumerate(hand_landmarks.landmark):\n",
    "                        # print(ids, landmrk)\n",
    "                        # cx, cy = landmrk.x * image_width, landmrk.y*image_height\n",
    "                        # print(cx, cy)'\n",
    "                        coord = [ids, landmrk.x, landmrk.y]\n",
    "                        file.write(str(coord))\n",
    "                    mp_drawing.draw_landmarks(\n",
    "                        image, hand_landmarks, mp_hands.HAND_CONNECTIONS)\n",
    "                file.close()\n",
    "                \n",
    "            file_path_img = f\"image_{index}.png\"\n",
    "            cv2.imwrite(file_path_img, image)\n",
    "            \n",
    "            index += 1\n",
    "            display(Image(data=cv2.imencode('.png', image)[1].tobytes()))\n",
    "        \n",
    "        \n",
    "button = widgets.Button(description=\"Capture Frame\")\n",
    "button.on_click(on_button_clicked)\n",
    "display(button)\n",
    "display(out)"
   ]
  },
  {
   "cell_type": "code",
   "execution_count": 10,
   "metadata": {},
   "outputs": [],
   "source": [
    "cap.release()"
   ]
  },
  {
   "cell_type": "markdown",
   "metadata": {},
   "source": [
    "Video Capture"
   ]
  },
  {
   "cell_type": "code",
   "execution_count": 15,
   "metadata": {},
   "outputs": [],
   "source": [
    "mp_drawing = mp.solutions.drawing_utils\n",
    "mp_hands = mp.solutions.hands\n",
    "\n",
    "# Configure MediaPipe Hands model\n",
    "with mp_hands.Hands(\n",
    "    min_detection_confidence=0.5,\n",
    "    min_tracking_confidence=0.5) as hands:\n",
    "\n",
    "    while cap.isOpened():\n",
    "        # Read a frame from the camera\n",
    "        success, image = cap.read()\n",
    "\n",
    "        # Check for the end of the video stream\n",
    "        if not success:\n",
    "            print(\"Ignoring empty camera frame.\")\n",
    "            break\n",
    "\n",
    "        # Preprocess the image\n",
    "        image = cv2.cvtColor(cv2.flip(image, 1), cv2.COLOR_BGR2RGB)\n",
    "        image.flags.writeable = False\n",
    "\n",
    "        # Process the image with MediaPipe Hands\n",
    "        results = hands.process(image)\n",
    "\n",
    "        # Extract image dimensions\n",
    "        image_height, image_width, _ = image.shape\n",
    "\n",
    "        # Revert back to BGR for rendering annotations\n",
    "        image.flags.writeable = True\n",
    "        image = cv2.cvtColor(image, cv2.COLOR_RGB2BGR)\n",
    "\n",
    "        # Draw hand landmarks on the image\n",
    "        if results.multi_hand_landmarks:\n",
    "            for hand_landmarks in results.multi_hand_landmarks:\n",
    "                for ids, landmrk in enumerate(hand_landmarks.landmark):\n",
    "                    cx, cy = landmrk.x * image_width, landmrk.y * image_height\n",
    "                    print(cx, cy)\n",
    "\n",
    "                # Draw landmarks and connections\n",
    "                mp_drawing.draw_landmarks(\n",
    "                    image, hand_landmarks, mp_hands.HAND_CONNECTIONS)\n",
    "\n",
    "        # Display the annotated image\n",
    "        cv2.imshow('MediaPipe Hands', image)\n",
    "\n",
    "        # Break the loop if the 'Esc' key is pressed\n",
    "        if cv2.waitKey(5) & 0xFF == 27:\n",
    "            break\n"
   ]
  },
  {
   "cell_type": "code",
   "execution_count": 13,
   "metadata": {},
   "outputs": [],
   "source": [
    "cap.release()"
   ]
  }
 ],
 "metadata": {
  "kernelspec": {
   "display_name": "base",
   "language": "python",
   "name": "python3"
  },
  "language_info": {
   "codemirror_mode": {
    "name": "ipython",
    "version": 3
   },
   "file_extension": ".py",
   "mimetype": "text/x-python",
   "name": "python",
   "nbconvert_exporter": "python",
   "pygments_lexer": "ipython3",
   "version": "3.11.4"
  }
 },
 "nbformat": 4,
 "nbformat_minor": 2
}
